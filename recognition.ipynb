{
 "cells": [
  {
   "cell_type": "code",
   "execution_count": 7,
   "metadata": {},
   "outputs": [],
   "source": [
    "from PIL import Image, ImageDraw\n",
    "\n",
    "def draw_bbox_on_image(image_path, ellipses):\n",
    "    with Image.open(image_path) as img:\n",
    "        for ellipse in ellipses:\n",
    "            draw = ImageDraw.Draw(img)\n",
    "            major_axis_radius, minor_axis_radius, angle, center_x, center_y = ellipse\n",
    "            \n",
    "            # Calculate the corners of the bounding box (ignoring rotation)\n",
    "            left = int(center_x - major_axis_radius)\n",
    "            top = int(center_y - minor_axis_radius)\n",
    "            right = int(center_x + major_axis_radius)\n",
    "            bottom = int(center_y + minor_axis_radius)\n",
    "\n",
    "            # Draw the bounding box on the image\n",
    "            draw.rectangle([left, top, right, bottom], outline='red')\n",
    "\n",
    "        # Display the image\n",
    "        img.show()\n",
    "        # Save the image with bounding boxes if needed\n",
    "        # img.save('annotated_image_with_bbox.jpg')\n",
    "\n",
    "# Your FDDB directory path\n",
    "image_dir = 'FDDB/originalPics'  # Adjust to the actual path to your FDDB images\n",
    "\n",
    "# Annotations for a single image\n",
    "annotations = [\n",
    "    (67.363819, 44.511485, -1.476417, 105.249970, 87.209036),\n",
    "    (41.936870, 27.064477, 1.471906, 184.070915, 129.345601),\n",
    "    (70.993052, 43.355200, 1.370217, 340.894300, 117.498951),\n",
    "]\n",
    "\n",
    "# Assuming the image '2002/08/26/big/img_265.jpg' is in the specified directory\n",
    "image_name = '2002/08/26/big/img_265'\n",
    "image_path = f'{image_dir}/{image_name}.jpg'\n",
    "\n",
    "# Draw bounding boxes on the image\n",
    "draw_bbox_on_image(image_path, annotations)\n"
   ]
  },
  {
   "cell_type": "code",
   "execution_count": 26,
   "id": "fcfa707b",
   "metadata": {},
   "outputs": [
    {
     "name": "stdout",
     "output_type": "stream",
     "text": [
      "not in FDDB/FDDB-folds/FDDB-fold-01.txt\n",
      "not in FDDB/FDDB-folds/FDDB-fold-02.txt\n",
      "not in FDDB/FDDB-folds/FDDB-fold-03.txt\n",
      "not in FDDB/FDDB-folds/FDDB-fold-04.txt\n",
      "not in FDDB/FDDB-folds/FDDB-fold-05.txt\n",
      "not in FDDB/FDDB-folds/FDDB-fold-06.txt\n",
      "not in FDDB/FDDB-folds/FDDB-fold-07.txt\n",
      "not in FDDB/FDDB-folds/FDDB-fold-08.txt\n",
      "not in FDDB/FDDB-folds/FDDB-fold-09.txt\n",
      "not in FDDB/FDDB-folds/FDDB-fold-10.txt\n"
     ]
    }
   ],
   "source": [
    "search_string = \"2002/07/25/big_img_722\"\n",
    "directory_path = \"FDDB/FDDB-folds\"\n",
    "\n",
    "# Correctly addressing the file naming and iterating line by line\n",
    "for i in range(1, 11):\n",
    "    file_name = f\"{directory_path}/FDDB-fold-{i:02}.txt\"\n",
    "    try:\n",
    "        with open(file_name, 'r') as file:\n",
    "            for line in file:\n",
    "                    line = line.rstrip()  # remove '\\n' at end of line\n",
    "                    if i == 9:\n",
    "                        print(line)\n",
    "                    if line == search_string:\n",
    "                        print(f\"The string is found in: {file_name}\")\n",
    "                        break  # Stop searching this file if the string is found\n",
    "        print(f\"not in {file_name}\")\n",
    "    except FileNotFoundError:\n",
    "        print(f\"File {file_name} not found.\")\n",
    "    except Exception as e:\n",
    "        print(f\"An error occurred while reading {file_name}: {e}\")\n"
   ]
  },
  {
   "cell_type": "code",
   "execution_count": null,
   "id": "d8232950",
   "metadata": {},
   "outputs": [],
   "source": []
  },
  {
   "cell_type": "code",
   "execution_count": null,
   "id": "917ea60e",
   "metadata": {},
   "outputs": [],
   "source": []
  }
 ],
 "metadata": {
  "kernelspec": {
   "display_name": "Python 3",
   "language": "python",
   "name": "python3"
  },
  "language_info": {
   "codemirror_mode": {
    "name": "ipython",
    "version": 3
   },
   "file_extension": ".py",
   "mimetype": "text/x-python",
   "name": "python",
   "nbconvert_exporter": "python",
   "pygments_lexer": "ipython3",
   "version": "3.12.2"
  }
 },
 "nbformat": 4,
 "nbformat_minor": 5
}
